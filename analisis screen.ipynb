{
 "cells": [
  {
   "cell_type": "code",
   "execution_count": 39,
   "id": "4de90445",
   "metadata": {},
   "outputs": [],
   "source": [
    "import pandas as pd\n",
    "import matplotlib.pyplot as plt\n",
    "import numpy as np\n",
    "from scipy.stats import norm\n",
    "from sklearn.preprocessing import StandardScaler\n",
    "from scipy import stats \n",
    "import warnings \n",
    "import seaborn as sns\n",
    "from rdkit import Chem as ch\n",
    "%matplotlib inline"
   ]
  },
  {
   "cell_type": "code",
   "execution_count": 23,
   "id": "c4c8179e",
   "metadata": {},
   "outputs": [],
   "source": [
    "info = pd.read_csv(\"info1.csv\")"
   ]
  },
  {
   "cell_type": "code",
   "execution_count": 38,
   "id": "35d72936",
   "metadata": {},
   "outputs": [
    {
     "data": {
      "text/html": [
       "<div>\n",
       "<style scoped>\n",
       "    .dataframe tbody tr th:only-of-type {\n",
       "        vertical-align: middle;\n",
       "    }\n",
       "\n",
       "    .dataframe tbody tr th {\n",
       "        vertical-align: top;\n",
       "    }\n",
       "\n",
       "    .dataframe thead th {\n",
       "        text-align: right;\n",
       "    }\n",
       "</style>\n",
       "<table border=\"1\" class=\"dataframe\">\n",
       "  <thead>\n",
       "    <tr style=\"text-align: right;\">\n",
       "      <th></th>\n",
       "      <th>numero</th>\n",
       "      <th>smile</th>\n",
       "      <th>zinc</th>\n",
       "      <th>primer</th>\n",
       "      <th>segunda</th>\n",
       "      <th>tercera</th>\n",
       "    </tr>\n",
       "  </thead>\n",
       "  <tbody>\n",
       "    <tr>\n",
       "      <th>0</th>\n",
       "      <td>1</td>\n",
       "      <td>Cc1ccc(Nc2cc(C)nc(N3CCOCC3)n2)c(C)c1</td>\n",
       "      <td>ZINC000000073498</td>\n",
       "      <td>-8.3</td>\n",
       "      <td>-8.3</td>\n",
       "      <td>-7.8</td>\n",
       "    </tr>\n",
       "    <tr>\n",
       "      <th>1</th>\n",
       "      <td>2</td>\n",
       "      <td>Cc1ccc(Nc2ccnc(Nc3ccc(C)cc3)n2)cc1</td>\n",
       "      <td>ZINC000000385034</td>\n",
       "      <td>-8.4</td>\n",
       "      <td>-8.0</td>\n",
       "      <td>-8.0</td>\n",
       "    </tr>\n",
       "    <tr>\n",
       "      <th>2</th>\n",
       "      <td>3</td>\n",
       "      <td>CNc1nc(N)cc(Nc2ccc(Br)cc2)n1</td>\n",
       "      <td>ZINC000001609669</td>\n",
       "      <td>-7.0</td>\n",
       "      <td>-7.0</td>\n",
       "      <td>-6.8</td>\n",
       "    </tr>\n",
       "    <tr>\n",
       "      <th>3</th>\n",
       "      <td>4</td>\n",
       "      <td>Cc1ccc(Nc2cc(C)nc(N3CCOCC3)n2)cc1</td>\n",
       "      <td>ZINC000002237974</td>\n",
       "      <td>-7.7</td>\n",
       "      <td>-7.6</td>\n",
       "      <td>-7.6</td>\n",
       "    </tr>\n",
       "    <tr>\n",
       "      <th>4</th>\n",
       "      <td>5</td>\n",
       "      <td>CNc1nc(C)c([N+](=O)[O-])c(Nc2ccc(OC)cc2)n1</td>\n",
       "      <td>ZINC000003880400</td>\n",
       "      <td>-7.0</td>\n",
       "      <td>-6.5</td>\n",
       "      <td>-6.3</td>\n",
       "    </tr>\n",
       "    <tr>\n",
       "      <th>...</th>\n",
       "      <td>...</td>\n",
       "      <td>...</td>\n",
       "      <td>...</td>\n",
       "      <td>...</td>\n",
       "      <td>...</td>\n",
       "      <td>...</td>\n",
       "    </tr>\n",
       "    <tr>\n",
       "      <th>66</th>\n",
       "      <td>67</td>\n",
       "      <td>Cc1ccc(Nc2ccnc(NN)n2)cc1</td>\n",
       "      <td>ZINC000051353985</td>\n",
       "      <td>-7.4</td>\n",
       "      <td>-7.3</td>\n",
       "      <td>-7.2</td>\n",
       "    </tr>\n",
       "    <tr>\n",
       "      <th>67</th>\n",
       "      <td>68</td>\n",
       "      <td>Cc1ccc(Nc2nc(NCCO)nc3n[nH]nc23)cc1</td>\n",
       "      <td>ZINC000062022641</td>\n",
       "      <td>-7.4</td>\n",
       "      <td>-7.1</td>\n",
       "      <td>-7.1</td>\n",
       "    </tr>\n",
       "    <tr>\n",
       "      <th>68</th>\n",
       "      <td>69</td>\n",
       "      <td>Cc1ccc(Nc2nc(NC[C@@H](C)O)nc3n[nH]nc23)cc1</td>\n",
       "      <td>ZINC000062022642</td>\n",
       "      <td>-7.9</td>\n",
       "      <td>-7.5</td>\n",
       "      <td>-7.5</td>\n",
       "    </tr>\n",
       "    <tr>\n",
       "      <th>69</th>\n",
       "      <td>70</td>\n",
       "      <td>Cc1ccc(Nc2nc(NC[C@H](C)O)nc3n[nH]nc23)cc1</td>\n",
       "      <td>ZINC000062022643</td>\n",
       "      <td>-8.7</td>\n",
       "      <td>-7.5</td>\n",
       "      <td>-7.5</td>\n",
       "    </tr>\n",
       "    <tr>\n",
       "      <th>70</th>\n",
       "      <td>71</td>\n",
       "      <td>Cc1ccc(Nc2nc(NCCCO)nc3n[nH]nc23)cc1</td>\n",
       "      <td>ZINC000062022644</td>\n",
       "      <td>-7.6</td>\n",
       "      <td>-7.3</td>\n",
       "      <td>-7.2</td>\n",
       "    </tr>\n",
       "  </tbody>\n",
       "</table>\n",
       "<p>71 rows × 6 columns</p>\n",
       "</div>"
      ],
      "text/plain": [
       "    numero                                       smile              zinc  \\\n",
       "0        1        Cc1ccc(Nc2cc(C)nc(N3CCOCC3)n2)c(C)c1  ZINC000000073498   \n",
       "1        2          Cc1ccc(Nc2ccnc(Nc3ccc(C)cc3)n2)cc1  ZINC000000385034   \n",
       "2        3                CNc1nc(N)cc(Nc2ccc(Br)cc2)n1  ZINC000001609669   \n",
       "3        4           Cc1ccc(Nc2cc(C)nc(N3CCOCC3)n2)cc1  ZINC000002237974   \n",
       "4        5  CNc1nc(C)c([N+](=O)[O-])c(Nc2ccc(OC)cc2)n1  ZINC000003880400   \n",
       "..     ...                                         ...               ...   \n",
       "66      67                    Cc1ccc(Nc2ccnc(NN)n2)cc1  ZINC000051353985   \n",
       "67      68          Cc1ccc(Nc2nc(NCCO)nc3n[nH]nc23)cc1  ZINC000062022641   \n",
       "68      69  Cc1ccc(Nc2nc(NC[C@@H](C)O)nc3n[nH]nc23)cc1  ZINC000062022642   \n",
       "69      70   Cc1ccc(Nc2nc(NC[C@H](C)O)nc3n[nH]nc23)cc1  ZINC000062022643   \n",
       "70      71         Cc1ccc(Nc2nc(NCCCO)nc3n[nH]nc23)cc1  ZINC000062022644   \n",
       "\n",
       "    primer  segunda  tercera  \n",
       "0     -8.3     -8.3     -7.8  \n",
       "1     -8.4     -8.0     -8.0  \n",
       "2     -7.0     -7.0     -6.8  \n",
       "3     -7.7     -7.6     -7.6  \n",
       "4     -7.0     -6.5     -6.3  \n",
       "..     ...      ...      ...  \n",
       "66    -7.4     -7.3     -7.2  \n",
       "67    -7.4     -7.1     -7.1  \n",
       "68    -7.9     -7.5     -7.5  \n",
       "69    -8.7     -7.5     -7.5  \n",
       "70    -7.6     -7.3     -7.2  \n",
       "\n",
       "[71 rows x 6 columns]"
      ]
     },
     "execution_count": 38,
     "metadata": {},
     "output_type": "execute_result"
    }
   ],
   "source": [
    "info.head(71)"
   ]
  },
  {
   "cell_type": "code",
   "execution_count": 25,
   "id": "58a2ed4f",
   "metadata": {},
   "outputs": [
    {
     "data": {
      "text/plain": [
       "(100, 6)"
      ]
     },
     "execution_count": 25,
     "metadata": {},
     "output_type": "execute_result"
    }
   ],
   "source": [
    "info.shape\n"
   ]
  },
  {
   "cell_type": "code",
   "execution_count": 26,
   "id": "d740a6c5",
   "metadata": {},
   "outputs": [
    {
     "data": {
      "text/html": [
       "<div>\n",
       "<style scoped>\n",
       "    .dataframe tbody tr th:only-of-type {\n",
       "        vertical-align: middle;\n",
       "    }\n",
       "\n",
       "    .dataframe tbody tr th {\n",
       "        vertical-align: top;\n",
       "    }\n",
       "\n",
       "    .dataframe thead th {\n",
       "        text-align: right;\n",
       "    }\n",
       "</style>\n",
       "<table border=\"1\" class=\"dataframe\">\n",
       "  <thead>\n",
       "    <tr style=\"text-align: right;\">\n",
       "      <th></th>\n",
       "      <th>numero</th>\n",
       "      <th>primer</th>\n",
       "      <th>segunda</th>\n",
       "      <th>tercera</th>\n",
       "    </tr>\n",
       "  </thead>\n",
       "  <tbody>\n",
       "    <tr>\n",
       "      <th>count</th>\n",
       "      <td>100.000000</td>\n",
       "      <td>100.000000</td>\n",
       "      <td>100.000000</td>\n",
       "      <td>100.000000</td>\n",
       "    </tr>\n",
       "    <tr>\n",
       "      <th>mean</th>\n",
       "      <td>50.500000</td>\n",
       "      <td>-7.304000</td>\n",
       "      <td>-7.122000</td>\n",
       "      <td>-6.983000</td>\n",
       "    </tr>\n",
       "    <tr>\n",
       "      <th>std</th>\n",
       "      <td>29.011492</td>\n",
       "      <td>0.867589</td>\n",
       "      <td>0.431015</td>\n",
       "      <td>0.432763</td>\n",
       "    </tr>\n",
       "    <tr>\n",
       "      <th>min</th>\n",
       "      <td>1.000000</td>\n",
       "      <td>-8.700000</td>\n",
       "      <td>-8.300000</td>\n",
       "      <td>-8.100000</td>\n",
       "    </tr>\n",
       "    <tr>\n",
       "      <th>25%</th>\n",
       "      <td>25.750000</td>\n",
       "      <td>-7.700000</td>\n",
       "      <td>-7.400000</td>\n",
       "      <td>-7.300000</td>\n",
       "    </tr>\n",
       "    <tr>\n",
       "      <th>50%</th>\n",
       "      <td>50.500000</td>\n",
       "      <td>-7.300000</td>\n",
       "      <td>-7.100000</td>\n",
       "      <td>-6.900000</td>\n",
       "    </tr>\n",
       "    <tr>\n",
       "      <th>75%</th>\n",
       "      <td>75.250000</td>\n",
       "      <td>-7.000000</td>\n",
       "      <td>-6.800000</td>\n",
       "      <td>-6.600000</td>\n",
       "    </tr>\n",
       "    <tr>\n",
       "      <th>max</th>\n",
       "      <td>100.000000</td>\n",
       "      <td>0.000000</td>\n",
       "      <td>-6.400000</td>\n",
       "      <td>-6.300000</td>\n",
       "    </tr>\n",
       "  </tbody>\n",
       "</table>\n",
       "</div>"
      ],
      "text/plain": [
       "           numero      primer     segunda     tercera\n",
       "count  100.000000  100.000000  100.000000  100.000000\n",
       "mean    50.500000   -7.304000   -7.122000   -6.983000\n",
       "std     29.011492    0.867589    0.431015    0.432763\n",
       "min      1.000000   -8.700000   -8.300000   -8.100000\n",
       "25%     25.750000   -7.700000   -7.400000   -7.300000\n",
       "50%     50.500000   -7.300000   -7.100000   -6.900000\n",
       "75%     75.250000   -7.000000   -6.800000   -6.600000\n",
       "max    100.000000    0.000000   -6.400000   -6.300000"
      ]
     },
     "execution_count": 26,
     "metadata": {},
     "output_type": "execute_result"
    }
   ],
   "source": [
    "info.describe()\n"
   ]
  },
  {
   "cell_type": "code",
   "execution_count": 27,
   "id": "78b81dc0",
   "metadata": {},
   "outputs": [
    {
     "data": {
      "text/plain": [
       "<seaborn.axisgrid.FacetGrid at 0x7eff15704820>"
      ]
     },
     "execution_count": 27,
     "metadata": {},
     "output_type": "execute_result"
    },
    {
     "data": {
      "image/png": "[encoded data removed]",
      "text/plain": [
       "<Figure size 360x360 with 1 Axes>"
      ]
     },
     "metadata": {
      "needs_background": "light"
     },
     "output_type": "display_data"
    }
   ],
   "source": [
    "sns.displot(info[\"primer\"])"
   ]
  },
  {
   "cell_type": "code",
   "execution_count": 29,
   "id": "1f667552",
   "metadata": {},
   "outputs": [],
   "source": [
    "var = \"primer\""
   ]
  },
  {
   "cell_type": "code",
   "execution_count": 33,
   "id": "fc3ee9a2",
   "metadata": {},
   "outputs": [],
   "source": [
    "data = pd.concat([info[\"numero\"] , info[var]],axis=1)"
   ]
  },
  {
   "cell_type": "code",
   "execution_count": 34,
   "id": "a7525a82",
   "metadata": {},
   "outputs": [
    {
     "data": {
      "text/html": [
       "<div>\n",
       "<style scoped>\n",
       "    .dataframe tbody tr th:only-of-type {\n",
       "        vertical-align: middle;\n",
       "    }\n",
       "\n",
       "    .dataframe tbody tr th {\n",
       "        vertical-align: top;\n",
       "    }\n",
       "\n",
       "    .dataframe thead th {\n",
       "        text-align: right;\n",
       "    }\n",
       "</style>\n",
       "<table border=\"1\" class=\"dataframe\">\n",
       "  <thead>\n",
       "    <tr style=\"text-align: right;\">\n",
       "      <th></th>\n",
       "      <th>numero</th>\n",
       "      <th>primer</th>\n",
       "    </tr>\n",
       "  </thead>\n",
       "  <tbody>\n",
       "    <tr>\n",
       "      <th>0</th>\n",
       "      <td>1</td>\n",
       "      <td>-8.3</td>\n",
       "    </tr>\n",
       "    <tr>\n",
       "      <th>1</th>\n",
       "      <td>2</td>\n",
       "      <td>-8.4</td>\n",
       "    </tr>\n",
       "    <tr>\n",
       "      <th>2</th>\n",
       "      <td>3</td>\n",
       "      <td>-7.0</td>\n",
       "    </tr>\n",
       "    <tr>\n",
       "      <th>3</th>\n",
       "      <td>4</td>\n",
       "      <td>-7.7</td>\n",
       "    </tr>\n",
       "    <tr>\n",
       "      <th>4</th>\n",
       "      <td>5</td>\n",
       "      <td>-7.0</td>\n",
       "    </tr>\n",
       "  </tbody>\n",
       "</table>\n",
       "</div>"
      ],
      "text/plain": [
       "   numero  primer\n",
       "0       1    -8.3\n",
       "1       2    -8.4\n",
       "2       3    -7.0\n",
       "3       4    -7.7\n",
       "4       5    -7.0"
      ]
     },
     "execution_count": 34,
     "metadata": {},
     "output_type": "execute_result"
    }
   ],
   "source": [
    "data.head(5)"
   ]
  },
  {
   "cell_type": "code",
   "execution_count": 37,
   "id": "421ab242",
   "metadata": {},
   "outputs": [
    {
     "data": {
      "image/png": "[encoded data removed]",
      "text/plain": [
       "<Figure size 1440x720 with 1 Axes>"
      ]
     },
     "metadata": {
      "needs_background": "light"
     },
     "output_type": "display_data"
    }
   ],
   "source": [
    "f, ax = plt.subplots(figsize=(20,10))\n",
    "fig = sns.boxplot(x=\"numero\", y=var , data=data)\n",
    "fig.axis(ymin=0 ,ymax=-10)\n",
    "plt.xticks(rotation=90)\n",
    "plt.show()"
   ]
  },
  {
   "cell_type": "code",
   "execution_count": 42,
   "id": "9308ea1f",
   "metadata": {},
   "outputs": [],
   "source": [
    "molec = ch.MolFromSmiles(\"Cc1ccc(Nc2nc(NCCCO)nc3n[nH]nc23)cc1\")"
   ]
  },
  {
   "cell_type": "code",
   "execution_count": 43,
   "id": "f0e471a4",
   "metadata": {},
   "outputs": [
    {
     "data": {
      "image/png": "[encoded data removed]",
      "text/plain": [
       "<rdkit.Chem.rdchem.Mol at 0x7eff1cc3bca0>"
      ]
     },
     "execution_count": 43,
     "metadata": {},
     "output_type": "execute_result"
    }
   ],
   "source": [
    "molec\n"
   ]
  },
  {
   "cell_type": "code",
   "execution_count": null,
   "id": "8de2e7aa",
   "metadata": {},
   "outputs": [],
   "source": []
  }
 ],
 "metadata": {
  "kernelspec": {
   "display_name": "Python 3 (ipykernel)",
   "language": "python",
   "name": "python3"
  },
  "language_info": {
   "codemirror_mode": {
    "name": "ipython",
    "version": 3
   },
   "file_extension": ".py",
   "mimetype": "text/x-python",
   "name": "python",
   "nbconvert_exporter": "python",
   "pygments_lexer": "ipython3",
   "version": "3.10.4"
  }
 },
 "nbformat": 4,
 "nbformat_minor": 5
}
